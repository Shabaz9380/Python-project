{
 "cells": [
  {
   "cell_type": "code",
   "execution_count": 1,
   "id": "21b967e7-b13c-4c4a-b417-9d83382132d9",
   "metadata": {},
   "outputs": [
    {
     "ename": "ModuleNotFoundError",
     "evalue": "No module named 'seaborn'",
     "output_type": "error",
     "traceback": [
      "\u001b[1;31m---------------------------------------------------------------------------\u001b[0m",
      "\u001b[1;31mModuleNotFoundError\u001b[0m                       Traceback (most recent call last)",
      "Cell \u001b[1;32mIn[1], line 3\u001b[0m\n\u001b[0;32m      1\u001b[0m \u001b[38;5;28;01mimport\u001b[39;00m \u001b[38;5;21;01mpandas\u001b[39;00m \u001b[38;5;28;01mas\u001b[39;00m \u001b[38;5;21;01mpd\u001b[39;00m\n\u001b[0;32m      2\u001b[0m \u001b[38;5;28;01mimport\u001b[39;00m \u001b[38;5;21;01mnumpy\u001b[39;00m \u001b[38;5;28;01mas\u001b[39;00m \u001b[38;5;21;01mnp\u001b[39;00m\n\u001b[1;32m----> 3\u001b[0m \u001b[38;5;28;01mimport\u001b[39;00m \u001b[38;5;21;01mseaborn\u001b[39;00m \u001b[38;5;28;01mas\u001b[39;00m \u001b[38;5;21;01msns\u001b[39;00m\n\u001b[0;32m      4\u001b[0m \u001b[38;5;28;01mimport\u001b[39;00m \u001b[38;5;21;01mmatplotlib\u001b[39;00m\u001b[38;5;21;01m.\u001b[39;00m\u001b[38;5;21;01mpyplot\u001b[39;00m \u001b[38;5;28;01mas\u001b[39;00m \u001b[38;5;21;01mplt\u001b[39;00m\n\u001b[0;32m      5\u001b[0m \u001b[38;5;28;01mfrom\u001b[39;00m \u001b[38;5;21;01msklearn\u001b[39;00m\u001b[38;5;21;01m.\u001b[39;00m model_selection \u001b[38;5;28;01mimport\u001b[39;00m \u001b[38;5;21;01mtrain_test_split\u001b[39;00m\n",
      "\u001b[1;31mModuleNotFoundError\u001b[0m: No module named 'seaborn'"
     ]
    }
   ],
   "source": [
    "import pandas as pd\n",
    "import numpy as np\n",
    "import seaborn as sns\n",
    "import matplotlib.pyplot as plt\n",
    "from sklearn. model_selection import train_test_split\n",
    "from sklearn.metrics import accuracy_score\n",
    "from sklearn.metrics import classification_report\n",
    "import re\n",
    "import string"
   ]
  },
  {
   "cell_type": "code",
   "execution_count": null,
   "id": "bb976a5c-1ed4-496a-b023-891b3baeb802",
   "metadata": {},
   "outputs": [],
   "source": [
    "### (1 - true news).\n",
    "### (0 - fake news).\n",
    "data_fake = pd.read_csv('fake.csv')\n",
    "data_true = pd.read_csv('true.csv')\n"
   ]
  },
  {
   "cell_type": "code",
   "execution_count": null,
   "id": "e35c7f01",
   "metadata": {},
   "outputs": [],
   "source": [
    "data_fake.head()"
   ]
  },
  {
   "cell_type": "code",
   "execution_count": null,
   "id": "2f951053",
   "metadata": {},
   "outputs": [],
   "source": [
    "data_true.head()"
   ]
  },
  {
   "cell_type": "code",
   "execution_count": null,
   "id": "e4e15c37",
   "metadata": {},
   "outputs": [],
   "source": [
    "data_fake[\"class\"] = 0\n",
    "data_true[\"class\"] = 1"
   ]
  },
  {
   "cell_type": "code",
   "execution_count": null,
   "id": "83a7c467",
   "metadata": {},
   "outputs": [],
   "source": [
    "data_fake.shape, data_true.shape"
   ]
  },
  {
   "cell_type": "code",
   "execution_count": null,
   "id": "3644d04d",
   "metadata": {},
   "outputs": [],
   "source": [
    "data_fake_manual_testing = data_fake.tail(10)\n",
    "for i in range(23480,23470,-1):\n",
    "    data_fake.drop([i], axis =0, inplace = True)"
   ]
  },
  {
   "cell_type": "code",
   "execution_count": null,
   "id": "f061fedb",
   "metadata": {},
   "outputs": [],
   "source": [
    "data_true_manual_testing = data_true.tail(10)\n",
    "for i in range(21416,21406,-1):\n",
    "    data_true.drop([i], axis = 0, inplace = True)"
   ]
  },
  {
   "cell_type": "code",
   "execution_count": null,
   "id": "20698bed",
   "metadata": {},
   "outputs": [],
   "source": [
    "data_fake.shape, data_true.shape"
   ]
  },
  {
   "cell_type": "code",
   "execution_count": null,
   "id": "0b5de8a8",
   "metadata": {},
   "outputs": [],
   "source": [
    "data_fake_manual_testing.head(10)"
   ]
  },
  {
   "cell_type": "code",
   "execution_count": null,
   "id": "b3025a8a",
   "metadata": {},
   "outputs": [],
   "source": [
    "data_true_manual_testing.head(10)\n",
    "\n",
    "\n",
    "\n",
    "data_merge = pd.concat([data_fake, data_true], axis = 0)\n",
    "\n",
    "\n",
    "\n",
    "data_merge.head()\n",
    "\n",
    "\n",
    "data_merge.shape\n",
    "\n",
    "\n",
    "data_merge.tail()\n",
    "\n",
    "\n",
    "data_merge.columns\n"
   ]
  },
  {
   "cell_type": "code",
   "execution_count": null,
   "id": "7e94f431",
   "metadata": {},
   "outputs": [],
   "source": [
    "###now removing those columns which are not required for processing.\n",
    "data = data_merge.drop(['title','subject','date'], axis = 1)\n"
   ]
  },
  {
   "cell_type": "code",
   "execution_count": null,
   "id": "0239ee83",
   "metadata": {},
   "outputs": [],
   "source": [
    "data.isnull().sum()\n"
   ]
  },
  {
   "cell_type": "code",
   "execution_count": null,
   "id": "c9534d71",
   "metadata": {},
   "outputs": [],
   "source": [
    "### now doing random shuffling of data frames\n",
    "data = data.sample(frac =1)\n",
    "data.head()"
   ]
  },
  {
   "cell_type": "code",
   "execution_count": null,
   "id": "804d8a81",
   "metadata": {},
   "outputs": [],
   "source": [
    "data.reset_index(inplace = True)\n",
    "data.drop(['index'], axis = 1, inplace = True)"
   ]
  },
  {
   "cell_type": "code",
   "execution_count": null,
   "id": "0f8a61fd",
   "metadata": {},
   "outputs": [],
   "source": [
    "data.columns\n",
    "\n",
    "\n",
    "data.head()"
   ]
  },
  {
   "cell_type": "code",
   "execution_count": null,
   "id": "38297623",
   "metadata": {},
   "outputs": [],
   "source": [
    "### creating a function to process the text.\n",
    "def wordopt(text):\n",
    "    text = text.lower()\n",
    "    text = re.sub('\\[.*?\\]', '', text)\n",
    "    text = re.sub(\"\\\\W\", \" \", text)\n",
    "    text = re.sub('https?://\\S+|www\\.\\S+','', text)\n",
    "    text = re.sub('<.*?>+', '', text)\n",
    "    text = re.sub('[%s]' % re.escape(string.punctuation), '', text)\n",
    "    text = re.sub('\\n', '', text)\n",
    "    text = re.sub('\\w*\\d\\w*', '', text)\n",
    "    return text"
   ]
  },
  {
   "cell_type": "code",
   "execution_count": null,
   "id": "60d99de3",
   "metadata": {},
   "outputs": [],
   "source": [
    "data['text'] = data['text'].apply(wordopt)"
   ]
  },
  {
   "cell_type": "code",
   "execution_count": null,
   "id": "27ea2c4b",
   "metadata": {},
   "outputs": [],
   "source": [
    "### now defining the dependent and independent variables\n",
    "x = data['text']\n",
    "y = data['class']"
   ]
  },
  {
   "cell_type": "code",
   "execution_count": null,
   "id": "795bbb65",
   "metadata": {},
   "outputs": [],
   "source": [
    "### Now Splitting the data,\n",
    "### Training the model and\n",
    "### Testing\n",
    "x_train, x_test, y_train, y_test  = train_test_split(x,y, test_size = 0.25)\n",
    "\n",
    "\n",
    "from sklearn.feature_extraction.text import TfidfVectorizer\n",
    "\n",
    "vectorization = TfidfVectorizer()\n",
    "xv_train = vectorization.fit_transform(x_train)\n",
    "xv_test = vectorization.transform(x_test)\n",
    "\n"
   ]
  },
  {
   "cell_type": "code",
   "execution_count": null,
   "id": "7835de1f",
   "metadata": {},
   "outputs": [],
   "source": [
    "### BUILDING A LINEAR REGRESSION MODEL\n",
    "from sklearn.linear_model import LogisticRegression\n",
    "\n",
    "LR = LogisticRegression()\n",
    "LR.fit(xv_train, y_train)\n",
    "\n",
    "\n",
    "\n",
    "pred_lr = LR.predict(xv_test)\n",
    "\n",
    "\n",
    "LR.score(xv_test, y_test)\n",
    "\n",
    "\n",
    "\n",
    "accuracy_LR = LR.score(xv_test, y_test)\n",
    "print(accuracy_LR*100)\n",
    "\n",
    "\n",
    "\n",
    "print(classification_report(y_test, pred_lr))\n"
   ]
  },
  {
   "cell_type": "code",
   "execution_count": null,
   "id": "fb1f5b6e",
   "metadata": {},
   "outputs": [],
   "source": [
    "### BUILDING A DECISION TREE CLASSIFIER MODEL\n",
    "\n",
    "from sklearn.tree import DecisionTreeClassifier\n",
    "\n",
    "DT = DecisionTreeClassifier()\n",
    "DT.fit(xv_train, y_train)\n",
    "\n",
    "\n",
    "\n",
    "pred_dt = DT.predict(xv_test)\n",
    "\n",
    "\n",
    "DT.score(xv_test, y_test)\n",
    "\n",
    "\n",
    "accuracy_DT = DT.score(xv_test, y_test)\n",
    "print(accuracy_DT*100)\n",
    "\n",
    "\n",
    "\n",
    "print(classification_report(y_test, pred_lr))\n"
   ]
  },
  {
   "cell_type": "code",
   "execution_count": null,
   "id": "9cc53b9e",
   "metadata": {},
   "outputs": [],
   "source": [
    "### BUILDING A GRADIENT BOOSTING CLASSIFIER MODEL\n",
    "\n",
    "\n",
    "from sklearn.ensemble import GradientBoostingClassifier\n",
    "GB = GradientBoostingClassifier(random_state = 0)\n",
    "GB.fit(xv_train, y_train)\n",
    "\n",
    "\n",
    "pred_gb = GB.predict(xv_test)\n",
    "\n",
    "\n",
    "GB.score(xv_test, y_test)\n",
    "\n",
    "\n",
    "accuracy_GB = GB.score(xv_test, y_test)\n",
    "print(accuracy_GB*100)\n",
    "\n",
    "\n",
    "\n",
    "print(classification_report(y_test, pred_gb))\n"
   ]
  },
  {
   "cell_type": "code",
   "execution_count": null,
   "id": "8e5c95cb",
   "metadata": {},
   "outputs": [],
   "source": [
    "### BUILDING A RANDOM FOREST CLASSIFIER MODEL\n",
    "\n",
    "\n",
    "from sklearn.ensemble import RandomForestClassifier\n",
    "\n",
    "RF = RandomForestClassifier(random_state = 0)\n",
    "RF.fit(xv_train, y_train)\n",
    "\n",
    "\n",
    "pred_rf = RF.predict(xv_test)\n",
    "\n",
    "\n",
    "RF.score(xv_test, y_test)\n",
    "\n",
    "\n",
    "accuracy_RF = RF.score(xv_test, y_test)\n",
    "print(accuracy_RF*100)\n",
    "\n",
    "\n",
    "print(classification_report(y_test, pred_rf))"
   ]
  },
  {
   "cell_type": "code",
   "execution_count": null,
   "id": "bdfa85ad",
   "metadata": {},
   "outputs": [],
   "source": [
    "def output_lable(n):\n",
    "    if n == 0:\n",
    "        return \"Fake News\"\n",
    "    elif n == 1:\n",
    "        return \"Real News\"\n"
   ]
  },
  {
   "cell_type": "code",
   "execution_count": null,
   "id": "ed5f0fe1",
   "metadata": {},
   "outputs": [],
   "source": [
    "def manual_testing(news):\n",
    "    testing_news = {\"text\": [news]}\n",
    "    new_def_test = pd.DataFrame(testing_news)\n",
    "    new_def_test[\"text\"] = new_def_test[\"text\"].apply(wordopt)\n",
    "    new_x_test = new_def_test[\"text\"]\n",
    "    new_xv_test = vectorization.transform(new_x_test)\n",
    "    pred_LR = LR.predict(new_xv_test)\n",
    "    pred_DT = DT.predict(new_xv_test)\n",
    "    pred_GB =  GB.predict(new_xv_test)\n",
    "    pred_RF =  RF.predict(new_xv_test)\n",
    "    return print(\"\\n\\nLR Prediction: {} \\nDT Prediction: {} \\nGB Prediction: {} \\nRF Prediction: {}\".format(output_lable(pred_LR[0]), output_lable(pred_DT[0]), output_lable(pred_GB[0]), output_lable(pred_RF[0])))\n",
    "\n",
    "\n",
    "news = str(input())\n",
    "manual_testing(news)\n",
    "   \n",
    "  ### you'll need to enter the data here manually\n",
    "|__________________________________________________|\n",
    "\n",
    "\n"
   ]
  },
  {
   "cell_type": "code",
   "execution_count": null,
   "id": "3398349d",
   "metadata": {},
   "outputs": [],
   "source": [
    "print(accuracy_LR*100)\n",
    "print(accuracy_DT*100)\n",
    "print(accuracy_GB*100)\n",
    "print(accuracy_RF*100)"
   ]
  }
 ],
 "metadata": {
  "kernelspec": {
   "display_name": "Python 3 (ipykernel)",
   "language": "python",
   "name": "python3"
  },
  "language_info": {
   "codemirror_mode": {
    "name": "ipython",
    "version": 3
   },
   "file_extension": ".py",
   "mimetype": "text/x-python",
   "name": "python",
   "nbconvert_exporter": "python",
   "pygments_lexer": "ipython3",
   "version": "3.11.5"
  }
 },
 "nbformat": 4,
 "nbformat_minor": 5
}
